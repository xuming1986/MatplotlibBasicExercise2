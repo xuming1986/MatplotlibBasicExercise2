{
 "cells": [
  {
   "cell_type": "markdown",
   "metadata": {},
   "source": [
    "# Exercise\n",
    "Write a Python program to draw a line using given axis values with suitable label in the x axis , y axis and a title. Go to the editor.\n",
    "\n",
    "The code snippet gives the output shown in the following screenshot:\n",
    "![image.png](attachment:image.png)"
   ]
  },
  {
   "cell_type": "code",
   "execution_count": 2,
   "metadata": {},
   "outputs": [
    {
     "name": "stdout",
     "output_type": "stream",
     "text": [
      "values for x:\n",
      "[1, 2, 3]\n",
      "values for y:\n",
      "[2, 4, 3]\n"
     ]
    }
   ],
   "source": [
    "#Importing the modules\n",
    "import matplotlib.pyplot as plt\n",
    "import numpy as np\n",
    "\n",
    "#Defining the axis values\n",
    "x = [1, 2, 3]\n",
    "y = [2, 4, 3]\n",
    "print('values for x:')\n",
    "print(x)\n",
    "print('values for y:')\n",
    "print(y)"
   ]
  },
  {
   "cell_type": "code",
   "execution_count": null,
   "metadata": {},
   "outputs": [],
   "source": []
  }
 ],
 "metadata": {
  "kernelspec": {
   "display_name": "Python 3",
   "language": "python",
   "name": "python3"
  },
  "language_info": {
   "codemirror_mode": {
    "name": "ipython",
    "version": 3
   },
   "file_extension": ".py",
   "mimetype": "text/x-python",
   "name": "python",
   "nbconvert_exporter": "python",
   "pygments_lexer": "ipython3",
   "version": "3.7.3"
  }
 },
 "nbformat": 4,
 "nbformat_minor": 2
}
